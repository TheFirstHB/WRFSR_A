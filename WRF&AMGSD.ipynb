{
 "cells": [
  {
   "cell_type": "markdown",
   "id": "942c3c53-64eb-450a-b56e-525e87899c3a",
   "metadata": {},
   "source": [
    "WRF使用データ整形＆座標に対応したメッシュ農業気象データ（農研機構）取得\n",
    "データ形式：netCDF\n",
    "次元：（時刻、経度、緯度）\n",
    "データ：\n",
    "    amgsd...メッシュ農業気象データ\n",
    "    amgsd_bc...メッシュ農業気象データ（バイキュービック補完）\n",
    "    WRF_1km...低解像度WRFデータ\n",
    "    WRF_1km_bc...低解像度WRFデータ（バイキュービック補完）\n",
    "    WRF_300m...高解像度WRFデータ\n",
    "\n",
    "\n",
    "備考\n",
    "WRFの暖気運転に位置する12月30-31は削除\n",
    "nanが存在する時刻を除去\n",
    "2022-01-01T00:00:00.000000000\n"
   ]
  },
  {
   "cell_type": "code",
   "execution_count": 58,
   "id": "ae1d168f-c04a-4b53-b683-ff3b0bbc9db9",
   "metadata": {},
   "outputs": [],
   "source": [
    "#データ関連\n",
    "import numpy as np\n",
    "import pandas as pd\n",
    "import xarray as xr\n",
    "import cv2\n",
    "import utils.amd_tools4 as AMD\n",
    "import math\n",
    "\n",
    "#パス関連\n",
    "from pathlib import Path\n",
    "import os\n",
    "\n",
    "#描画関連\n",
    "import matplotlib.pyplot as plt\n",
    "import cartopy.crs as ccrs"
   ]
  },
  {
   "cell_type": "code",
   "execution_count": 59,
   "id": "bbf31d05-0ace-46e2-a84e-d1fe37855469",
   "metadata": {},
   "outputs": [],
   "source": [
    "#WRFoutの存在する場所の指定\n",
    "root = \"/mnt/nadaru/WRFdata\"\n",
    "AMDroot = \"/mnt/nadaru/AMDdata\""
   ]
  },
  {
   "cell_type": "code",
   "execution_count": null,
   "id": "d6bfd9eb-600f-4306-ae34-212a3f06d642",
   "metadata": {},
   "outputs": [],
   "source": [
    "'''\n",
    "データセット取得\n",
    "場所：３領域（岩見沢駅、万字、栗山）から選択\n",
    "抽出データ：2m相対湿度、気温、下向き長波放射量から選択\n",
    "\n",
    "'''\n",
    "#場所　iwamista or manji or kuriyama\n",
    "loc = 'manji'\n",
    "year = 2023\n",
    "\n",
    "#抽出データ　RH2　or T2 or GLW\n",
    "extdata = \"T2\"\n",
    "path = os.path.join(root,f\"{str(year)}/{loc}\")\n",
    "\n",
    "\n",
    "ds01 = xr.open_dataset(path + f\"/wrfout_d01_{str(year-1)}-12-30_00:00:00\")\n",
    "ds02 = xr.open_dataset(path + f\"/wrfout_d02_{str(year-1)}-12-30_00:00:00\")\n"
   ]
  },
  {
   "cell_type": "code",
   "execution_count": null,
   "id": "25f0bd6b-608d-480c-ad14-3711787aca96",
   "metadata": {},
   "outputs": [],
   "source": [
    "'''\n",
    "WRF出力結果から相対湿度の計算\n",
    "'''\n",
    "def calcRH2(dataset):\n",
    "    dims = ('t', 'x', 'y')\n",
    "    coords = {'latitude': (('x', 'y'), dataset[\"XLAT\"][0].values),\n",
    "              'longitude': (('x', 'y'), dataset[\"XLONG\"][0].values),\n",
    "              't': dataset['XTIME'].values,\n",
    "              }\n",
    "    T2 = dataset.variables['T2'][:]  # 2m気温 (K)\n",
    "    Q2 = dataset.variables['Q2'][:]  # 2m比湿 (kg/kg)\n",
    "    PSFC = dataset.variables['PSFC'][:]  # 地表気圧 (Pa)\n",
    "    \n",
    "    # 飽和水蒸気圧の計算\n",
    "    es = 6.112 * np.exp((17.67 * (T2 - 273.15)) / (T2 - 29.65))  # hPaに単位換算\n",
    "    \n",
    "    # 実際の水蒸気圧の計算\n",
    "    e = (Q2 * PSFC) / (0.622 + 0.378 * Q2) / 100  # PaをhPaに変換\n",
    "    \n",
    "    # 相対湿度の計算\n",
    "    RH2 = (e / es) * 100  # %\n",
    "    RH2_clipped = np.clip(RH2, 0, 100)\n",
    "    dataarray   = xr.DataArray(RH2_clipped,coords, dims)\n",
    "\n",
    "    return dataarray\n",
    "\n",
    "dims = ('t', 'x', 'y')\n",
    "coords = {'latitude': (('x', 'y'), ds01[\"XLAT\"][0].values),\n",
    "          'longitude': (('x', 'y'), ds01[\"XLONG\"][0].values),\n",
    "          't': ds01['XTIME'].values,\n",
    "          }\n",
    "\n",
    "coords2 = {'latitude': (('x', 'y'), ds02[\"XLAT\"][0].values),\n",
    "          'longitude': (('x', 'y'), ds02[\"XLONG\"][0].values),\n",
    "          't': ds01['XTIME'].values,\n",
    "          }\n",
    "\n",
    "if extdata == 'RH2':\n",
    "    ds01 = calcRH2(ds01)\n",
    "    ds02 = calcRH2(ds02)\n",
    "else:\n",
    "    ds01 = xr.DataArray(ds01[extdata][:],coords, dims)\n",
    "    ds02 = xr.DataArray(ds02[extdata][:],coords2, dims)\n"
   ]
  },
  {
   "cell_type": "code",
   "execution_count": null,
   "id": "80eab8bc-a520-4b2c-a2cc-8256b452961e",
   "metadata": {},
   "outputs": [
    {
     "name": "stdout",
     "output_type": "stream",
     "text": [
      "TMP (8810, 57, 52) Hourly\n"
     ]
    }
   ],
   "source": [
    "'''\n",
    "メッシュ農業気象データ取得API（転載不可なため未掲載）による指定領域の気象データ取得。\n",
    "'''\n",
    "\n",
    "enddate = ds01[\"t\"][-1].values\n",
    "startdate = ds01[\"t\"][0].values\n",
    "ts = [pd.to_datetime(str(startdate)) ,pd.to_datetime(str(enddate))]\n",
    "timedomain = [ts[0].strftime('%Y-%m-%dT%H'),ts[1].strftime('%Y-%m-%dT%H')]\n",
    "lat = [ds01[\"latitude\"].values.min(),ds01[\"latitude\"].values.max()]\n",
    "lon = [ds01[\"longitude\"].values.min(),ds01[\"longitude\"].values.max()]\n",
    "lalodomain = lat+lon\n",
    "\n",
    "if extdata == 'RH2':\n",
    "    amdvar = 'RH'\n",
    "elif extdata == 'GLW':\n",
    "    amdvar = 'DLR'\n",
    "elif extdata == 'T2':\n",
    "    amdvar = 'TMP'\n",
    "\n",
    "\n",
    "\n",
    "Tm, tim, lat, lon = AMD.GetMetDataHourly(amdvar, timedomain, lalodomain)\n",
    "Tm_resize = np.array([cv2.resize(a, (51,51),interpolation=cv2.INTER_NEAREST) for a in Tm])\n",
    "\n",
    "if extdata == \"T2\":\n",
    "    Tm_resize += 273"
   ]
  },
  {
   "cell_type": "markdown",
   "id": "537a0d1a-031d-4eea-b451-b077fa2cd38c",
   "metadata": {},
   "source": [
    "'''\n",
    "WRF1kmとの緯度経度誤差確認\n",
    "結果：1km＝１ピクセルの誤差は生じる恐れあり\n",
    "'''\n",
    "\n",
    "# Haversine公式を使った球面距離計算\n",
    "def haversine(lat1, lon1, lat2, lon2):\n",
    "    R = 6371  # 地球の半径 (km)\n",
    "    if lat1 - lat2 > 0:\n",
    "        print('+')\n",
    "    else:\n",
    "        print('-')\n",
    "\n",
    "    if lon1 - lon2 > 0:\n",
    "        print('+')\n",
    "    else:\n",
    "        print('-')\n",
    "    phi1 = math.radians(lat1)\n",
    "    phi2 = math.radians(lat2)\n",
    "    delta_phi = math.radians(lat2 - lat1)\n",
    "    delta_lambda = math.radians(lon2 - lon1)\n",
    "\n",
    "    a = math.sin(delta_phi / 2) ** 2 + \\\n",
    "        math.cos(phi1) * math.cos(phi2) * math.sin(delta_lambda / 2) ** 2\n",
    "    c = 2 * math.atan2(math.sqrt(a), math.sqrt(1 - a))\n",
    "\n",
    "    return R * c\n",
    "    \n",
    "laloamd = np.array([lat.min(),lat.max(),lon.min(),lon.max()])\n",
    "lalowrf = np.array(lalodomain)\n",
    "\n",
    "dist_dl = haversine(laloamd[0],laloamd[2],lalowrf[0],lalowrf[2])\n",
    "print(dist_dl)\n",
    "dist_ul = haversine(laloamd[1],laloamd[2],lalowrf[1],lalowrf[2])\n",
    "print(dist_ul)\n",
    "dist_dr = haversine(laloamd[0],laloamd[3],lalowrf[0],lalowrf[3])\n",
    "print(dist_dr)\n",
    "dist_ur = haversine(laloamd[1],laloamd[3],lalowrf[1],lalowrf[3])\n",
    "print(dist_ur)"
   ]
  },
  {
   "cell_type": "code",
   "execution_count": 79,
   "id": "bc987c77-9e08-4a57-a2a4-8e8da9b1fc3b",
   "metadata": {},
   "outputs": [],
   "source": [
    "'''\n",
    "xrデータアレイ作成\n",
    "'''\n",
    "\n",
    "dims = ('t', 'x', 'y')\n",
    "coords = {'latitude': (('x', 'y'), ds01[\"latitude\"].values),\n",
    "          'longitude': (('x', 'y'), ds01[\"longitude\"].values),\n",
    "          't': tim[48:],\n",
    "          }\n",
    "\n",
    "coords2 = {'latitude': (('x', 'y'), ds02[\"latitude\"].values),\n",
    "          'longitude': (('x', 'y'), ds02[\"longitude\"].values),\n",
    "          't': tim[48:],\n",
    "          }\n",
    "\n",
    "amgsd = xr.DataArray(Tm_resize[48:],coords, dims)\n",
    "d01_WRF   = xr.DataArray(ds01[48:],coords, dims)\n",
    "d02_WRF   = xr.DataArray(ds02[48:],coords2, dims)\n"
   ]
  },
  {
   "cell_type": "code",
   "execution_count": null,
   "id": "1f47fae4-c8e7-4d6f-a255-7e9d7fe1f84e",
   "metadata": {},
   "outputs": [],
   "source": [
    "'''\n",
    "WRF_300mに合わせた切り出しを行う\n",
    "'''\n",
    "\n",
    "lat = [ds02[\"latitude\"].values.min(),ds02[\"latitude\"].values.max()]\n",
    "lon = [ds02[\"longitude\"].values.min(),ds02[\"longitude\"].values.max()]\n",
    "cond_lat = (lat[0] < amgsd.latitude) & (lat[1] > amgsd.latitude)\n",
    "cond_lon = (lon[0] < amgsd.longitude) & (lon[1] > amgsd.longitude)\n",
    "\n",
    "amgsd = amgsd.where(cond_lat & cond_lon , drop=True)\n",
    "d01_WRF = d01_WRF.where(cond_lat & cond_lon , drop=True)"
   ]
  },
  {
   "cell_type": "code",
   "execution_count": null,
   "id": "110a3168-5315-4add-961b-9009ffc845a9",
   "metadata": {
    "scrolled": true
   },
   "outputs": [],
   "source": [
    "'''\n",
    "saizu\n",
    "'''\n",
    "\n",
    "amgsd_resize = np.array([cv2.resize(a, (51,51),interpolation=cv2.INTER_NEAREST) for a in amgsd.values])\n",
    "wrf_resize = np.array([cv2.resize(a, (51,51),interpolation=cv2.INTER_NEAREST) for a in d01_WRF.values])\n",
    "\n",
    "amgsd_resize_bc = np.array([cv2.resize(a, (51,51),interpolation=cv2.INTER_CUBIC) for a in amgsd.values])\n",
    "wrf_resize_bc = np.array([cv2.resize(a, (51,51),interpolation=cv2.INTER_CUBIC) for a in d01_WRF.values])\n",
    "\n",
    "amgsd = xr.DataArray(amgsd_resize,coords, dims)\n",
    "amgsd_bc = xr.DataArray(amgsd_resize_bc,coords, dims)\n",
    "wrf_lr = xr.DataArray(wrf_resize,coords, dims)\n",
    "wrf_hr = d02_WRF\n",
    "wrf_lr_bc = xr.DataArray(wrf_resize_bc,coords, dims)"
   ]
  },
  {
   "cell_type": "code",
   "execution_count": null,
   "id": "191aaa8c-dfc3-47b8-a6f8-3acfcce1a444",
   "metadata": {},
   "outputs": [
    {
     "name": "stdout",
     "output_type": "stream",
     "text": [
      "2023-01-01T00:00:00.000000000\n",
      "1\n"
     ]
    }
   ],
   "source": [
    "#欠損値の確認\n",
    "c = 0\n",
    "for a in range(8761):\n",
    "    if np.isnan(amgsd[a].values).sum() != 0:\n",
    "        c+=1\n",
    "        print(amgsd.t[a].values)\n",
    "        \n",
    "print(c)"
   ]
  },
  {
   "cell_type": "code",
   "execution_count": null,
   "id": "aa5e4843-ac4a-44a5-a942-9f9cf1e40353",
   "metadata": {},
   "outputs": [],
   "source": [
    "'''\n",
    "データセット作成\n",
    "'''\n",
    "\n",
    "dsarray = xr.Dataset()\n",
    "dsarray['amgsd'] = amgsd\n",
    "dsarray['amgsd_bc'] = amgsd_bc\n",
    "dsarray['WRF_1km'] = wrf_lr\n",
    "dsarray['WRF_1km_bc'] = wrf_lr_bc\n",
    "dsarray['WRF_300m'] = wrf_hr"
   ]
  },
  {
   "cell_type": "code",
   "execution_count": null,
   "id": "10441578-c78e-4006-91df-c6aaaf61c80b",
   "metadata": {},
   "outputs": [
    {
     "name": "stdout",
     "output_type": "stream",
     "text": [
      "271.40347\n",
      "274.31177\n",
      "274.31854\n"
     ]
    },
    {
     "data": {
      "image/png": "[encoded data removed]",
      "text/plain": [
       "<Figure size 1000x3000 with 3 Axes>"
      ]
     },
     "metadata": {},
     "output_type": "display_data"
    }
   ],
   "source": [
    "#データ整合性チェック\n",
    "\n",
    "fig = plt.figure(figsize=(10,30))\n",
    "i = 2000\n",
    "content= ['amgsd','WRF_1km','WRF_300m']\n",
    "for a in range(3):\n",
    "    sample = dsarray[content[a]][i,:,:]\n",
    "    print(sample.mean().values)\n",
    "    ax = fig.add_subplot(1,3,a+1)\n",
    "    ax.imshow(dsarray[content[a]][i,:,:])\n",
    "    ax.set_title(content[a])\n",
    "plt.show()"
   ]
  },
  {
   "cell_type": "code",
   "execution_count": 85,
   "id": "51b299f2-2976-48f9-8247-946b9fc190ee",
   "metadata": {},
   "outputs": [],
   "source": [
    "#nan除去\n",
    "dataset = dsarray.isel(t=slice(1,8761))"
   ]
  },
  {
   "cell_type": "code",
   "execution_count": null,
   "id": "e7168d09-8894-4dd8-91cb-23e6c21c05b5",
   "metadata": {},
   "outputs": [],
   "source": [
    "'''\n",
    "データセットの保存（netCDF）\n",
    "'''\n",
    "\n",
    "savepath = \"/mnt/nadaru/trainingdataset/\"\n",
    "name = f'{amdvar}_{str(year)}_{loc}.nc'\n",
    "dataset.to_netcdf(savepath+name)"
   ]
  }
 ],
 "metadata": {
  "kernelspec": {
   "display_name": "Python 3 (ipykernel)",
   "language": "python",
   "name": "python3"
  },
  "language_info": {
   "codemirror_mode": {
    "name": "ipython",
    "version": 3
   },
   "file_extension": ".py",
   "mimetype": "text/x-python",
   "name": "python",
   "nbconvert_exporter": "python",
   "pygments_lexer": "ipython3",
   "version": "3.11.9"
  }
 },
 "nbformat": 4,
 "nbformat_minor": 5
}
